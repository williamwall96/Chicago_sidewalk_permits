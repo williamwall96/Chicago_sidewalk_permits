{
 "cells": [
  {
   "cell_type": "code",
   "execution_count": 2,
   "metadata": {},
   "outputs": [],
   "source": [
    "#Dependencies\n",
    "import pandas as pd"
   ]
  },
  {
   "cell_type": "code",
   "execution_count": 3,
   "metadata": {},
   "outputs": [
    {
     "data": {
      "text/plain": [
       "Index(['PERMIT NUMBER', 'ACCOUNT NUMBER', 'SITE NUMBER', 'LEGAL NAME',\n",
       "       'DOING BUSINESS AS NAME', 'ISSUED DATE', 'EXPIRATION DATE',\n",
       "       'PAYMENT DATE', 'ADDRESS', 'ADDRESS NUMBER START', 'ADDRESS NUMBER',\n",
       "       'STREET DIRECTION', 'STREET', 'STREET TYPE', 'CITY', 'STATE',\n",
       "       'ZIP CODE', 'WARD', 'PRECINCT', 'WARD PRECINCT', 'POLICE DISTRICT',\n",
       "       'LATITUDE', 'LONGITUDE', 'LOCATION', 'Community Areas', 'Zip Codes',\n",
       "       'Boundaries - ZIP Codes', 'Census Tracts', 'Wards'],\n",
       "      dtype='object')"
      ]
     },
     "execution_count": 3,
     "metadata": {},
     "output_type": "execute_result"
    }
   ],
   "source": [
    "#read in data\n",
    "permits_df = pd.read_csv(\"../data/sidewalk-cafe-permits.csv\")\n",
    "#drop duplicates but there are none\n",
    "permits_df.drop_duplicates()\n",
    "permits_df.columns"
   ]
  },
  {
   "cell_type": "code",
   "execution_count": 8,
   "metadata": {},
   "outputs": [],
   "source": [
    "permits_df.sort_values(\"ISSUED DATE\", ascending=True).head(5)\n",
    "import_permits_df = permits_df[[\"PERMIT NUMBER\", \"DOING BUSINESS AS NAME\", \"ISSUED DATE\", \"EXPIRATION DATE\", \"ADDRESS\", \"CITY\", \"STATE\", \"ZIP CODE\", \"LATITUDE\", \"LONGITUDE\", \"LOCATION\"]]\n",
    "import_permits_df.to_csv(\"past_permits_for_import.csv\")"
   ]
  },
  {
   "cell_type": "code",
   "execution_count": 12,
   "metadata": {},
   "outputs": [],
   "source": [
    "current_permits = pd.read_csv(\"../data/current_permits.csv\")\n",
    "current_permits.head()\n",
    "import_current_permits_df = current_permits[[\"PERMIT NUMBER\", \"DOING BUSINESS AS NAME\", \"ISSUED DATE\", \"EXPIRATION DATE\", \"ADDRESS\", \"CITY\", \"STATE\", \"ZIP CODE\", \"LATITUDE\", \"LONGITUDE\", \"LOCATION\"]]\n",
    "import_current_permits_df.to_csv(\"current_permits_forUpload.csv\")"
   ]
  },
  {
   "cell_type": "code",
   "execution_count": null,
   "metadata": {},
   "outputs": [],
   "source": []
  }
 ],
 "metadata": {
  "kernelspec": {
   "display_name": "Python 3",
   "language": "python",
   "name": "python3"
  },
  "language_info": {
   "codemirror_mode": {
    "name": "ipython",
    "version": 3
   },
   "file_extension": ".py",
   "mimetype": "text/x-python",
   "name": "python",
   "nbconvert_exporter": "python",
   "pygments_lexer": "ipython3",
   "version": "3.8.3"
  }
 },
 "nbformat": 4,
 "nbformat_minor": 4
}
